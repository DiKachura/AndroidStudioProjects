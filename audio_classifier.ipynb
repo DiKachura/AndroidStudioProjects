{
  "nbformat": 4,
  "nbformat_minor": 0,
  "metadata": {
    "colab": {
      "provenance": [],
      "authorship_tag": "ABX9TyNyXFkLjhKUk5GsGFGyFcvR",
      "include_colab_link": true
    },
    "kernelspec": {
      "name": "python3",
      "display_name": "Python 3"
    },
    "language_info": {
      "name": "python"
    }
  },
  "cells": [
    {
      "cell_type": "markdown",
      "metadata": {
        "id": "view-in-github",
        "colab_type": "text"
      },
      "source": [
        "<a href=\"https://colab.research.google.com/github/DiKachura/AndroidStudioProjects/blob/main/audio_classifier.ipynb\" target=\"_parent\"><img src=\"https://colab.research.google.com/assets/colab-badge.svg\" alt=\"Open In Colab\"/></a>"
      ]
    },
    {
      "cell_type": "markdown",
      "source": [
        "**Распознавание объектов по аудиосигналу**"
      ],
      "metadata": {
        "id": "xeNZLfH4FV4y"
      }
    },
    {
      "cell_type": "markdown",
      "source": [
        "Для обучения модели необходимо собрать набор данных из аудиосигналов по следующим классам:\n",
        "- **человек (человеческая речь и тд);**\n",
        "1. Surrey Audio-Visual Expressed Emotion ([SAVEE](https://www.kaggle.com/ejlok1/surrey-audiovisual-expressed-emotion-savee))\n",
        "2. Ryerson Audio-Visual Database of Emotional Speech and Song ([RAVDESS](https://www.kaggle.com/uwrfkaggler/ravdess-emotional-speech-audio))\n",
        "3. Toronto emotional speech set ([TESS](https://www.kaggle.com/ejlok1/toronto-emotional-speech-set-tess))\n",
        "4. Crowd-sourced Emotional Mutimodal Actors Dataset ([CREMA-D](https://www.kaggle.com/ejlok1/cremad))\n",
        "- **автомобиль (шум автомобиля и тд);**\n",
        "1. [Vehicle Type Sound Dataset](https://www.kaggle.com/datasets/brinkor/vehicle-type-sound-dataset)\n",
        "2. [Car](https://research.google.com/audioset///download.html) здесь данные в формате csv с ссылкой на YouTube\n",
        "3. [Car-Engine-Sounds-Dataset](https://github.com/AwaisSabit/Car-Engine-Sounds-Dataset) здесь формат mp4\n",
        "- **животное (звуки, издаваемые животными и тд);**\n",
        "1. [Animal sound](https://www.kaggle.com/datasets/maulanaakbardwijaya/animal-sounds-dataset) здесь всего 24 файла\n",
        "2. [animal sound database](https://www.kaggle.com/datasets/anveshkalwa/animal-sound-database) здесь всего 74 файла\n",
        "3. [Animals Sound Dataset](https://www.kaggle.com/datasets/caoofficial/animal-sounds) здесь есть файлы длиной больше 5с\n",
        "4. [Music and Animal Basic Emotions](https://www.kaggle.com/datasets/jocelyndumlao/music-and-animal-basic-emotions) всего 81 файл\n",
        "- **БПЛА (шум винтов и тд);**\n",
        "- **шум (если требуется для выбранного алгоритма или модели).**\n"
      ],
      "metadata": {
        "id": "k4vj2WS6FlG4"
      }
    },
    {
      "cell_type": "markdown",
      "source": [
        "Вопросы:\n",
        "- можно ли брать данные с английским языком для человеческой речи или обязтельно только на русском"
      ],
      "metadata": {
        "id": "CKPfE-CzF88M"
      }
    },
    {
      "cell_type": "code",
      "source": [],
      "metadata": {
        "id": "6jjQBA7qKcNI"
      },
      "execution_count": null,
      "outputs": []
    }
  ]
}